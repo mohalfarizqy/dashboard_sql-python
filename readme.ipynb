{
 "cells": [
  {
   "cell_type": "markdown",
   "id": "0644e8b9-a0d9-47a8-91ae-e13a2c859e7d",
   "metadata": {},
   "source": [
    "<h1>Editorial Dashboard</h1>\n",
    "<p>The dashboard being discussed can be found here: <a href='https://lookerstudio.google.com/u/0/reporting/ce3f7a85-abdb-46d0-b139-49e3b5c1b350/page/p_cs8tqwvbhd'>Editorial Dashboard on Google Looker Studio</a>.</p>\n",
    "<p>It can also be read as a PDF file: Editorial Dashboard PDF</p>\n",
    "\n",
    "<h2>Big Question & Specifics</h2>\n",
    "<p>This dashboard is designed to answer, descriptively, <b><i>why are our article views going down/up?</i></b> by addressing the following specific questions:</p>\n",
    "<ul>\n",
    "    <li>How might the number of published articles, Google clicks, and views from republishers contribute to this?</li>\n",
    "    <ul>\n",
    "        <li>How many articles have we published? What does this mean?</li>\n",
    "        <li>How many views have we gotten from republishers? What does this mean?</li>\n",
    "        <li>How many clicks have we gotten from Google? What does this mean?</li>\n",
    "    </ul>\n",
    "    <li>How does each section contribute to the article views?</li>\n",
    "    <ul>\n",
    "        <li>What are the top viewed sections?</li>\n",
    "        <li>How is each section viewed on a daily basis?</li>\n",
    "    </ul>\n",
    "    <li>How many views do all published articles get?</li>\n",
    "    <li>How can we improve our Google clicks?</li>\n",
    "    <li>How can we improve our views from republishers?</li>\n",
    "</ul>\n",
    "\n",
    "<h2>Tools & Dataset</h2>\n",
    "<p>Google Looker Studio, Google BigQuery, Google Search Console, Google Sheets/Microsoft Excel, and Jupyter Notebook/VS Code.</p>\n",
    "<p>All SQL scripts are written in Google BigQuery. Jupyter Notebook is used to prepare and subset the data extracted from Google Search Console.</p>\n",
    "\n",
    "<h2>Users: Newsroom Team & Digital Campaign Strategists</h2>\n",
    "<p>The intended users of this dashboard are the editor-in-chief and editors. The <b>editor-in-chief</b> can get an <b>overview</b> of how content views are affected by newsroom productivity, republishers, and search engines. They can also <b>filter and zoom in</b> on each section, each editor, and each day to identify performing articles <b>in more detail</b>. This might be useful for tracking content view changes and identifying opportunities for improvement.</p>\n",
    "\n",
    "<p><b>Editors</b> can find an <b>overview</b> of their own section by clicking on their section in the colored chart. By doing this, the dashboard will focus solely on the section of interest. Editors can also <b>filter and zoom in</b> on each topic and each day to identify top-performing topics and articles <b>in more detail</b>. This might be helpful for their topic planning, sifting through topics that need more attention.</p>\n",
    "\n",
    "<p>Additionally, this dashboard can be used by campaign or digital strategists looking to connect relevant articles to the overall digital strategy. They can get an <b>overview</b> by filtering out the topics of interest. By doing this, the dashboard will focus solely on the topics at hand. Campaign strategists can also <b>filter and zoom in</b> on each section, each editor, and each day to get <b>more details</b> about which of them are performing better than others.</p>\n",
    "\n",
    "<h2>Dashboard Type: Operational Dashboard</h2>\n",
    "<p>This dashboard is an operational dashboard, where users can <b>actively monitor data on a daily basis</b>. Most of the charts are using Google BigQuery (SQL modeling) as their data sources, and it can change in 'real-time'. Some charts that were made of Google Search Console data sources can only be monitored in two to three days basis. There are only few charts that have constant values.</p>\n",
    "    \n",
    "<p>In the upper-right corner of the dashboard, users can find two practical <b>suggestions for improvement</b>: topic improvement (for SEO) and republisher improvement (for republishing). These suggestions are important for planning and upcoming projects.</p>"
   ]
  }
 ],
 "metadata": {
  "kernelspec": {
   "display_name": "Python 3 (ipykernel)",
   "language": "python",
   "name": "python3"
  },
  "language_info": {
   "codemirror_mode": {
    "name": "ipython",
    "version": 3
   },
   "file_extension": ".py",
   "mimetype": "text/x-python",
   "name": "python",
   "nbconvert_exporter": "python",
   "pygments_lexer": "ipython3",
   "version": "3.11.4"
  }
 },
 "nbformat": 4,
 "nbformat_minor": 5
}
